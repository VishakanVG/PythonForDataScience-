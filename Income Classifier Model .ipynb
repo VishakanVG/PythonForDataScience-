{
 "cells": [
  {
   "cell_type": "markdown",
   "id": "5a374f1c",
   "metadata": {},
   "source": [
    "**PROBLEM STATEMENT**\n",
    "\n",
    "A company delivers subsidies to individuals based on their income. Accurate income data is one of the hardest piece of data to obtain across the world. The company has obtained a large set of authenticated data on individual income, demographic parameters, and few financial parameters.\n",
    "Develop an income classifier system for individuals.\n",
    "\n",
    "**OBJECTIVE**\n",
    "\n",
    "Simplfy the data system by reducing the number of variables to be studied, without sacrificing too much of accuracy. Such a system would help the company in planning susbidy outlay, monitoring and preventing misuse."
   ]
  },
  {
   "cell_type": "markdown",
   "id": "95e5a909",
   "metadata": {},
   "source": [
    "**INTRODUCTION TO CLASSIFICATION CASE STUDY**\n",
    "\n",
    "* Data file name    : income\n",
    "* Data file type    : csv\n",
    "* Data set          : (31978 x 13) Numerical-4,Categorical-9\n",
    "* Method used       : Classification technique (Supervised, Binary classification model)\n",
    "* Problem statement : Develop an classifier for individuals with reduced number of variables to find the income bracket"
   ]
  },
  {
   "cell_type": "markdown",
   "id": "72e569bb",
   "metadata": {},
   "source": [
    "**FRAME WORK**\n",
    "\n",
    "Data -> Supervised calssification model -> Model developed on train data -> Variable importance (algorithm) -> Validate model on test data -> Model with reduced variable"
   ]
  },
  {
   "cell_type": "markdown",
   "id": "2fab7bfc",
   "metadata": {},
   "source": [
    "**MODEL IDENTIFICATION**\n",
    "* Logistic Regression\n",
    "* Random Forest\n",
    "* K Nearest Neighbors \n",
    "\n",
    "**REALIZATION OF SOLUTION**\n",
    "* Evaluate performance matrics\n",
    "* If assumptions are satisfied and solutions are acceptable, then the model is good"
   ]
  },
  {
   "cell_type": "markdown",
   "id": "94bc4358",
   "metadata": {},
   "source": [
    "**IMPORTING THE REQUIRED PYTHON LIBRARIES**"
   ]
  },
  {
   "cell_type": "code",
   "execution_count": 1,
   "id": "7cfb0fb9",
   "metadata": {},
   "outputs": [],
   "source": [
    "import pandas as pd\n",
    "import os\n",
    "import numpy as np\n",
    "import seaborn as sns\n",
    "import matplotlib.pyplot as plt\n",
    "from sklearn.model_selection import train_test_split\n",
    "from sklearn.linear_model import LogisticRegression\n",
    "from sklearn.metrics import accuracy_score,confusion_matrix"
   ]
  },
  {
   "cell_type": "markdown",
   "id": "18c878e4",
   "metadata": {},
   "source": [
    "**IMPORTING DATA**"
   ]
  },
  {
   "cell_type": "code",
   "execution_count": 2,
   "id": "8314968c",
   "metadata": {},
   "outputs": [],
   "source": [
    "os.chdir(\"D:\\VG\\DATA SCIENCE\\Data sets\\Income\")\n",
    "data_income=pd.read_table(\"income.csv\",sep=\",\")"
   ]
  },
  {
   "cell_type": "code",
   "execution_count": 3,
   "id": "3b3fb869",
   "metadata": {},
   "outputs": [],
   "source": [
    "# Creating a copy of the original data\n",
    "data=data_income.copy()"
   ]
  },
  {
   "cell_type": "markdown",
   "id": "5c43f183",
   "metadata": {},
   "source": [
    "**EXPLORATORY DATA ANALYSIS**"
   ]
  },
  {
   "cell_type": "code",
   "execution_count": 4,
   "id": "64072437",
   "metadata": {},
   "outputs": [
    {
     "data": {
      "text/html": [
       "<div>\n",
       "<style scoped>\n",
       "    .dataframe tbody tr th:only-of-type {\n",
       "        vertical-align: middle;\n",
       "    }\n",
       "\n",
       "    .dataframe tbody tr th {\n",
       "        vertical-align: top;\n",
       "    }\n",
       "\n",
       "    .dataframe thead th {\n",
       "        text-align: right;\n",
       "    }\n",
       "</style>\n",
       "<table border=\"1\" class=\"dataframe\">\n",
       "  <thead>\n",
       "    <tr style=\"text-align: right;\">\n",
       "      <th></th>\n",
       "      <th>age</th>\n",
       "      <th>JobType</th>\n",
       "      <th>EdType</th>\n",
       "      <th>maritalstatus</th>\n",
       "      <th>occupation</th>\n",
       "      <th>relationship</th>\n",
       "      <th>race</th>\n",
       "      <th>gender</th>\n",
       "      <th>capitalgain</th>\n",
       "      <th>capitalloss</th>\n",
       "      <th>hoursperweek</th>\n",
       "      <th>nativecountry</th>\n",
       "      <th>SalStat</th>\n",
       "    </tr>\n",
       "  </thead>\n",
       "  <tbody>\n",
       "    <tr>\n",
       "      <th>0</th>\n",
       "      <td>45</td>\n",
       "      <td>Private</td>\n",
       "      <td>HS-grad</td>\n",
       "      <td>Divorced</td>\n",
       "      <td>Adm-clerical</td>\n",
       "      <td>Not-in-family</td>\n",
       "      <td>White</td>\n",
       "      <td>Female</td>\n",
       "      <td>0</td>\n",
       "      <td>0</td>\n",
       "      <td>28</td>\n",
       "      <td>United-States</td>\n",
       "      <td>less than or equal to 50,000</td>\n",
       "    </tr>\n",
       "    <tr>\n",
       "      <th>1</th>\n",
       "      <td>24</td>\n",
       "      <td>Federal-gov</td>\n",
       "      <td>HS-grad</td>\n",
       "      <td>Never-married</td>\n",
       "      <td>Armed-Forces</td>\n",
       "      <td>Own-child</td>\n",
       "      <td>White</td>\n",
       "      <td>Male</td>\n",
       "      <td>0</td>\n",
       "      <td>0</td>\n",
       "      <td>40</td>\n",
       "      <td>United-States</td>\n",
       "      <td>less than or equal to 50,000</td>\n",
       "    </tr>\n",
       "    <tr>\n",
       "      <th>2</th>\n",
       "      <td>44</td>\n",
       "      <td>Private</td>\n",
       "      <td>Some-college</td>\n",
       "      <td>Married-civ-spouse</td>\n",
       "      <td>Prof-specialty</td>\n",
       "      <td>Husband</td>\n",
       "      <td>White</td>\n",
       "      <td>Male</td>\n",
       "      <td>0</td>\n",
       "      <td>0</td>\n",
       "      <td>40</td>\n",
       "      <td>United-States</td>\n",
       "      <td>greater than 50,000</td>\n",
       "    </tr>\n",
       "  </tbody>\n",
       "</table>\n",
       "</div>"
      ],
      "text/plain": [
       "   age       JobType         EdType        maritalstatus       occupation  \\\n",
       "0   45       Private        HS-grad             Divorced     Adm-clerical   \n",
       "1   24   Federal-gov        HS-grad        Never-married     Armed-Forces   \n",
       "2   44       Private   Some-college   Married-civ-spouse   Prof-specialty   \n",
       "\n",
       "     relationship    race   gender  capitalgain  capitalloss  hoursperweek  \\\n",
       "0   Not-in-family   White   Female            0            0            28   \n",
       "1       Own-child   White     Male            0            0            40   \n",
       "2         Husband   White     Male            0            0            40   \n",
       "\n",
       "    nativecountry                        SalStat  \n",
       "0   United-States   less than or equal to 50,000  \n",
       "1   United-States   less than or equal to 50,000  \n",
       "2   United-States            greater than 50,000  "
      ]
     },
     "execution_count": 4,
     "metadata": {},
     "output_type": "execute_result"
    }
   ],
   "source": [
    "# Getting to know the data \n",
    "data.head(3)"
   ]
  },
  {
   "cell_type": "code",
   "execution_count": 5,
   "id": "cb4bee92",
   "metadata": {},
   "outputs": [
    {
     "data": {
      "text/plain": [
       "age              0\n",
       "JobType          0\n",
       "EdType           0\n",
       "maritalstatus    0\n",
       "occupation       0\n",
       "relationship     0\n",
       "race             0\n",
       "gender           0\n",
       "capitalgain      0\n",
       "capitalloss      0\n",
       "hoursperweek     0\n",
       "nativecountry    0\n",
       "SalStat          0\n",
       "dtype: int64"
      ]
     },
     "execution_count": 5,
     "metadata": {},
     "output_type": "execute_result"
    }
   ],
   "source": [
    "# Checking for missing values\n",
    "data.isnull().sum()"
   ]
  },
  {
   "cell_type": "code",
   "execution_count": 6,
   "id": "6895f13c",
   "metadata": {},
   "outputs": [
    {
     "name": "stdout",
     "output_type": "stream",
     "text": [
      "<class 'pandas.core.frame.DataFrame'>\n",
      "RangeIndex: 31978 entries, 0 to 31977\n",
      "Data columns (total 13 columns):\n",
      " #   Column         Non-Null Count  Dtype \n",
      "---  ------         --------------  ----- \n",
      " 0   age            31978 non-null  int64 \n",
      " 1   JobType        31978 non-null  object\n",
      " 2   EdType         31978 non-null  object\n",
      " 3   maritalstatus  31978 non-null  object\n",
      " 4   occupation     31978 non-null  object\n",
      " 5   relationship   31978 non-null  object\n",
      " 6   race           31978 non-null  object\n",
      " 7   gender         31978 non-null  object\n",
      " 8   capitalgain    31978 non-null  int64 \n",
      " 9   capitalloss    31978 non-null  int64 \n",
      " 10  hoursperweek   31978 non-null  int64 \n",
      " 11  nativecountry  31978 non-null  object\n",
      " 12  SalStat        31978 non-null  object\n",
      "dtypes: int64(4), object(9)\n",
      "memory usage: 3.2+ MB\n"
     ]
    }
   ],
   "source": [
    "# To check the variables data types\n",
    "data.info()"
   ]
  },
  {
   "cell_type": "code",
   "execution_count": 7,
   "id": "6a38e669",
   "metadata": {},
   "outputs": [
    {
     "data": {
      "text/html": [
       "<div>\n",
       "<style scoped>\n",
       "    .dataframe tbody tr th:only-of-type {\n",
       "        vertical-align: middle;\n",
       "    }\n",
       "\n",
       "    .dataframe tbody tr th {\n",
       "        vertical-align: top;\n",
       "    }\n",
       "\n",
       "    .dataframe thead th {\n",
       "        text-align: right;\n",
       "    }\n",
       "</style>\n",
       "<table border=\"1\" class=\"dataframe\">\n",
       "  <thead>\n",
       "    <tr style=\"text-align: right;\">\n",
       "      <th></th>\n",
       "      <th>age</th>\n",
       "      <th>capitalgain</th>\n",
       "      <th>capitalloss</th>\n",
       "      <th>hoursperweek</th>\n",
       "    </tr>\n",
       "  </thead>\n",
       "  <tbody>\n",
       "    <tr>\n",
       "      <th>count</th>\n",
       "      <td>31978.000000</td>\n",
       "      <td>31978.000000</td>\n",
       "      <td>31978.000000</td>\n",
       "      <td>31978.000000</td>\n",
       "    </tr>\n",
       "    <tr>\n",
       "      <th>mean</th>\n",
       "      <td>38.579023</td>\n",
       "      <td>1064.360623</td>\n",
       "      <td>86.739352</td>\n",
       "      <td>40.417850</td>\n",
       "    </tr>\n",
       "    <tr>\n",
       "      <th>std</th>\n",
       "      <td>13.662085</td>\n",
       "      <td>7298.596271</td>\n",
       "      <td>401.594301</td>\n",
       "      <td>12.345285</td>\n",
       "    </tr>\n",
       "    <tr>\n",
       "      <th>min</th>\n",
       "      <td>17.000000</td>\n",
       "      <td>0.000000</td>\n",
       "      <td>0.000000</td>\n",
       "      <td>1.000000</td>\n",
       "    </tr>\n",
       "    <tr>\n",
       "      <th>25%</th>\n",
       "      <td>28.000000</td>\n",
       "      <td>0.000000</td>\n",
       "      <td>0.000000</td>\n",
       "      <td>40.000000</td>\n",
       "    </tr>\n",
       "    <tr>\n",
       "      <th>50%</th>\n",
       "      <td>37.000000</td>\n",
       "      <td>0.000000</td>\n",
       "      <td>0.000000</td>\n",
       "      <td>40.000000</td>\n",
       "    </tr>\n",
       "    <tr>\n",
       "      <th>75%</th>\n",
       "      <td>48.000000</td>\n",
       "      <td>0.000000</td>\n",
       "      <td>0.000000</td>\n",
       "      <td>45.000000</td>\n",
       "    </tr>\n",
       "    <tr>\n",
       "      <th>max</th>\n",
       "      <td>90.000000</td>\n",
       "      <td>99999.000000</td>\n",
       "      <td>4356.000000</td>\n",
       "      <td>99.000000</td>\n",
       "    </tr>\n",
       "  </tbody>\n",
       "</table>\n",
       "</div>"
      ],
      "text/plain": [
       "                age   capitalgain   capitalloss  hoursperweek\n",
       "count  31978.000000  31978.000000  31978.000000  31978.000000\n",
       "mean      38.579023   1064.360623     86.739352     40.417850\n",
       "std       13.662085   7298.596271    401.594301     12.345285\n",
       "min       17.000000      0.000000      0.000000      1.000000\n",
       "25%       28.000000      0.000000      0.000000     40.000000\n",
       "50%       37.000000      0.000000      0.000000     40.000000\n",
       "75%       48.000000      0.000000      0.000000     45.000000\n",
       "max       90.000000  99999.000000   4356.000000     99.000000"
      ]
     },
     "execution_count": 7,
     "metadata": {},
     "output_type": "execute_result"
    }
   ],
   "source": [
    "# Summary of numerical variables\n",
    "data.describe()"
   ]
  },
  {
   "cell_type": "code",
   "execution_count": 8,
   "id": "8f93b6ae",
   "metadata": {},
   "outputs": [
    {
     "data": {
      "text/html": [
       "<div>\n",
       "<style scoped>\n",
       "    .dataframe tbody tr th:only-of-type {\n",
       "        vertical-align: middle;\n",
       "    }\n",
       "\n",
       "    .dataframe tbody tr th {\n",
       "        vertical-align: top;\n",
       "    }\n",
       "\n",
       "    .dataframe thead th {\n",
       "        text-align: right;\n",
       "    }\n",
       "</style>\n",
       "<table border=\"1\" class=\"dataframe\">\n",
       "  <thead>\n",
       "    <tr style=\"text-align: right;\">\n",
       "      <th></th>\n",
       "      <th>JobType</th>\n",
       "      <th>EdType</th>\n",
       "      <th>maritalstatus</th>\n",
       "      <th>occupation</th>\n",
       "      <th>relationship</th>\n",
       "      <th>race</th>\n",
       "      <th>gender</th>\n",
       "      <th>nativecountry</th>\n",
       "      <th>SalStat</th>\n",
       "    </tr>\n",
       "  </thead>\n",
       "  <tbody>\n",
       "    <tr>\n",
       "      <th>count</th>\n",
       "      <td>31978</td>\n",
       "      <td>31978</td>\n",
       "      <td>31978</td>\n",
       "      <td>31978</td>\n",
       "      <td>31978</td>\n",
       "      <td>31978</td>\n",
       "      <td>31978</td>\n",
       "      <td>31978</td>\n",
       "      <td>31978</td>\n",
       "    </tr>\n",
       "    <tr>\n",
       "      <th>unique</th>\n",
       "      <td>9</td>\n",
       "      <td>16</td>\n",
       "      <td>7</td>\n",
       "      <td>15</td>\n",
       "      <td>6</td>\n",
       "      <td>5</td>\n",
       "      <td>2</td>\n",
       "      <td>41</td>\n",
       "      <td>2</td>\n",
       "    </tr>\n",
       "    <tr>\n",
       "      <th>top</th>\n",
       "      <td>Private</td>\n",
       "      <td>HS-grad</td>\n",
       "      <td>Married-civ-spouse</td>\n",
       "      <td>Prof-specialty</td>\n",
       "      <td>Husband</td>\n",
       "      <td>White</td>\n",
       "      <td>Male</td>\n",
       "      <td>United-States</td>\n",
       "      <td>less than or equal to 50,000</td>\n",
       "    </tr>\n",
       "    <tr>\n",
       "      <th>freq</th>\n",
       "      <td>22286</td>\n",
       "      <td>10368</td>\n",
       "      <td>14692</td>\n",
       "      <td>4038</td>\n",
       "      <td>12947</td>\n",
       "      <td>27430</td>\n",
       "      <td>21370</td>\n",
       "      <td>29170</td>\n",
       "      <td>24283</td>\n",
       "    </tr>\n",
       "  </tbody>\n",
       "</table>\n",
       "</div>"
      ],
      "text/plain": [
       "         JobType    EdType        maritalstatus       occupation relationship  \\\n",
       "count      31978     31978                31978            31978        31978   \n",
       "unique         9        16                    7               15            6   \n",
       "top      Private   HS-grad   Married-civ-spouse   Prof-specialty      Husband   \n",
       "freq       22286     10368                14692             4038        12947   \n",
       "\n",
       "          race gender   nativecountry                        SalStat  \n",
       "count    31978  31978           31978                          31978  \n",
       "unique       5      2              41                              2  \n",
       "top      White   Male   United-States   less than or equal to 50,000  \n",
       "freq     27430  21370           29170                          24283  "
      ]
     },
     "execution_count": 8,
     "metadata": {},
     "output_type": "execute_result"
    }
   ],
   "source": [
    "# Summary of categorical variables\n",
    "data.describe(include=\"O\")"
   ]
  },
  {
   "cell_type": "code",
   "execution_count": 9,
   "id": "3d1dc21d",
   "metadata": {},
   "outputs": [
    {
     "data": {
      "text/plain": [
       " Private             22286\n",
       " Self-emp-not-inc     2499\n",
       " Local-gov            2067\n",
       " ?                    1809\n",
       " State-gov            1279\n",
       " Self-emp-inc         1074\n",
       " Federal-gov           943\n",
       " Without-pay            14\n",
       " Never-worked            7\n",
       "Name: JobType, dtype: int64"
      ]
     },
     "execution_count": 9,
     "metadata": {},
     "output_type": "execute_result"
    }
   ],
   "source": [
    "# Frequency of each variable\n",
    "data[\"JobType\"].value_counts()"
   ]
  },
  {
   "cell_type": "code",
   "execution_count": 10,
   "id": "fe917df6",
   "metadata": {},
   "outputs": [
    {
     "name": "stdout",
     "output_type": "stream",
     "text": [
      "[' ?' ' Federal-gov' ' Local-gov' ' Never-worked' ' Private'\n",
      " ' Self-emp-inc' ' Self-emp-not-inc' ' State-gov' ' Without-pay']\n",
      "[' ?' ' Adm-clerical' ' Armed-Forces' ' Craft-repair' ' Exec-managerial'\n",
      " ' Farming-fishing' ' Handlers-cleaners' ' Machine-op-inspct'\n",
      " ' Other-service' ' Priv-house-serv' ' Prof-specialty' ' Protective-serv'\n",
      " ' Sales' ' Tech-support' ' Transport-moving']\n"
     ]
    }
   ],
   "source": [
    "# Checking for unique classes \n",
    "print(np.unique(data[\"JobType\"]))\n",
    "print(np.unique(data[\"occupation\"]))"
   ]
  },
  {
   "cell_type": "code",
   "execution_count": 11,
   "id": "54846596",
   "metadata": {},
   "outputs": [],
   "source": [
    "# Specifying null values while importing\n",
    "data=pd.read_table('income.csv',sep=\",\",na_values=[\" ?\"])"
   ]
  },
  {
   "cell_type": "code",
   "execution_count": 12,
   "id": "54653640",
   "metadata": {},
   "outputs": [
    {
     "data": {
      "text/html": [
       "<div>\n",
       "<style scoped>\n",
       "    .dataframe tbody tr th:only-of-type {\n",
       "        vertical-align: middle;\n",
       "    }\n",
       "\n",
       "    .dataframe tbody tr th {\n",
       "        vertical-align: top;\n",
       "    }\n",
       "\n",
       "    .dataframe thead th {\n",
       "        text-align: right;\n",
       "    }\n",
       "</style>\n",
       "<table border=\"1\" class=\"dataframe\">\n",
       "  <thead>\n",
       "    <tr style=\"text-align: right;\">\n",
       "      <th></th>\n",
       "      <th>age</th>\n",
       "      <th>JobType</th>\n",
       "      <th>EdType</th>\n",
       "      <th>maritalstatus</th>\n",
       "      <th>occupation</th>\n",
       "      <th>relationship</th>\n",
       "      <th>race</th>\n",
       "      <th>gender</th>\n",
       "      <th>capitalgain</th>\n",
       "      <th>capitalloss</th>\n",
       "      <th>hoursperweek</th>\n",
       "      <th>nativecountry</th>\n",
       "      <th>SalStat</th>\n",
       "    </tr>\n",
       "  </thead>\n",
       "  <tbody>\n",
       "    <tr>\n",
       "      <th>0</th>\n",
       "      <td>45</td>\n",
       "      <td>Private</td>\n",
       "      <td>HS-grad</td>\n",
       "      <td>Divorced</td>\n",
       "      <td>Adm-clerical</td>\n",
       "      <td>Not-in-family</td>\n",
       "      <td>White</td>\n",
       "      <td>Female</td>\n",
       "      <td>0</td>\n",
       "      <td>0</td>\n",
       "      <td>28</td>\n",
       "      <td>United-States</td>\n",
       "      <td>less than or equal to 50,000</td>\n",
       "    </tr>\n",
       "    <tr>\n",
       "      <th>1</th>\n",
       "      <td>24</td>\n",
       "      <td>Federal-gov</td>\n",
       "      <td>HS-grad</td>\n",
       "      <td>Never-married</td>\n",
       "      <td>Armed-Forces</td>\n",
       "      <td>Own-child</td>\n",
       "      <td>White</td>\n",
       "      <td>Male</td>\n",
       "      <td>0</td>\n",
       "      <td>0</td>\n",
       "      <td>40</td>\n",
       "      <td>United-States</td>\n",
       "      <td>less than or equal to 50,000</td>\n",
       "    </tr>\n",
       "    <tr>\n",
       "      <th>2</th>\n",
       "      <td>44</td>\n",
       "      <td>Private</td>\n",
       "      <td>Some-college</td>\n",
       "      <td>Married-civ-spouse</td>\n",
       "      <td>Prof-specialty</td>\n",
       "      <td>Husband</td>\n",
       "      <td>White</td>\n",
       "      <td>Male</td>\n",
       "      <td>0</td>\n",
       "      <td>0</td>\n",
       "      <td>40</td>\n",
       "      <td>United-States</td>\n",
       "      <td>greater than 50,000</td>\n",
       "    </tr>\n",
       "    <tr>\n",
       "      <th>3</th>\n",
       "      <td>27</td>\n",
       "      <td>Private</td>\n",
       "      <td>9th</td>\n",
       "      <td>Never-married</td>\n",
       "      <td>Craft-repair</td>\n",
       "      <td>Other-relative</td>\n",
       "      <td>White</td>\n",
       "      <td>Male</td>\n",
       "      <td>0</td>\n",
       "      <td>0</td>\n",
       "      <td>40</td>\n",
       "      <td>Mexico</td>\n",
       "      <td>less than or equal to 50,000</td>\n",
       "    </tr>\n",
       "    <tr>\n",
       "      <th>4</th>\n",
       "      <td>20</td>\n",
       "      <td>Private</td>\n",
       "      <td>Some-college</td>\n",
       "      <td>Never-married</td>\n",
       "      <td>Sales</td>\n",
       "      <td>Not-in-family</td>\n",
       "      <td>White</td>\n",
       "      <td>Male</td>\n",
       "      <td>0</td>\n",
       "      <td>0</td>\n",
       "      <td>35</td>\n",
       "      <td>United-States</td>\n",
       "      <td>less than or equal to 50,000</td>\n",
       "    </tr>\n",
       "  </tbody>\n",
       "</table>\n",
       "</div>"
      ],
      "text/plain": [
       "   age       JobType         EdType        maritalstatus       occupation  \\\n",
       "0   45       Private        HS-grad             Divorced     Adm-clerical   \n",
       "1   24   Federal-gov        HS-grad        Never-married     Armed-Forces   \n",
       "2   44       Private   Some-college   Married-civ-spouse   Prof-specialty   \n",
       "3   27       Private            9th        Never-married     Craft-repair   \n",
       "4   20       Private   Some-college        Never-married            Sales   \n",
       "\n",
       "      relationship    race   gender  capitalgain  capitalloss  hoursperweek  \\\n",
       "0    Not-in-family   White   Female            0            0            28   \n",
       "1        Own-child   White     Male            0            0            40   \n",
       "2          Husband   White     Male            0            0            40   \n",
       "3   Other-relative   White     Male            0            0            40   \n",
       "4    Not-in-family   White     Male            0            0            35   \n",
       "\n",
       "    nativecountry                        SalStat  \n",
       "0   United-States   less than or equal to 50,000  \n",
       "1   United-States   less than or equal to 50,000  \n",
       "2   United-States            greater than 50,000  \n",
       "3          Mexico   less than or equal to 50,000  \n",
       "4   United-States   less than or equal to 50,000  "
      ]
     },
     "execution_count": 12,
     "metadata": {},
     "output_type": "execute_result"
    }
   ],
   "source": [
    "data.head()"
   ]
  },
  {
   "cell_type": "code",
   "execution_count": 13,
   "id": "a81bbe3b",
   "metadata": {},
   "outputs": [
    {
     "data": {
      "text/plain": [
       "age                 0\n",
       "JobType          1809\n",
       "EdType              0\n",
       "maritalstatus       0\n",
       "occupation       1816\n",
       "relationship        0\n",
       "race                0\n",
       "gender              0\n",
       "capitalgain         0\n",
       "capitalloss         0\n",
       "hoursperweek        0\n",
       "nativecountry       0\n",
       "SalStat             0\n",
       "dtype: int64"
      ]
     },
     "execution_count": 13,
     "metadata": {},
     "output_type": "execute_result"
    }
   ],
   "source": [
    "# Data Pre-processing\n",
    "data.isnull().sum()"
   ]
  },
  {
   "cell_type": "code",
   "execution_count": 14,
   "id": "b8464b29",
   "metadata": {},
   "outputs": [
    {
     "name": "stdout",
     "output_type": "stream",
     "text": [
      "       age JobType         EdType        maritalstatus occupation  \\\n",
      "8       17     NaN           11th        Never-married        NaN   \n",
      "17      32     NaN   Some-college   Married-civ-spouse        NaN   \n",
      "29      22     NaN   Some-college        Never-married        NaN   \n",
      "42      52     NaN           12th        Never-married        NaN   \n",
      "44      63     NaN        1st-4th   Married-civ-spouse        NaN   \n",
      "...    ...     ...            ...                  ...        ...   \n",
      "31892   59     NaN      Bachelors   Married-civ-spouse        NaN   \n",
      "31934   20     NaN        HS-grad        Never-married        NaN   \n",
      "31945   28     NaN   Some-college   Married-civ-spouse        NaN   \n",
      "31967   80     NaN        HS-grad              Widowed        NaN   \n",
      "31968   17     NaN           11th        Never-married        NaN   \n",
      "\n",
      "          relationship    race   gender  capitalgain  capitalloss  \\\n",
      "8            Own-child   White   Female            0            0   \n",
      "17             Husband   White     Male            0            0   \n",
      "29           Own-child   White     Male            0            0   \n",
      "42      Other-relative   Black     Male          594            0   \n",
      "44             Husband   White     Male            0            0   \n",
      "...                ...     ...      ...          ...          ...   \n",
      "31892          Husband   White     Male            0            0   \n",
      "31934   Other-relative   White   Female            0            0   \n",
      "31945             Wife   White   Female            0         1887   \n",
      "31967    Not-in-family   White     Male            0            0   \n",
      "31968        Own-child   White     Male            0            0   \n",
      "\n",
      "       hoursperweek   nativecountry                        SalStat  \n",
      "8                 5   United-States   less than or equal to 50,000  \n",
      "17               40   United-States   less than or equal to 50,000  \n",
      "29               40   United-States   less than or equal to 50,000  \n",
      "42               40   United-States   less than or equal to 50,000  \n",
      "44               35   United-States   less than or equal to 50,000  \n",
      "...             ...             ...                            ...  \n",
      "31892            40   United-States            greater than 50,000  \n",
      "31934            35   United-States   less than or equal to 50,000  \n",
      "31945            40   United-States            greater than 50,000  \n",
      "31967            24   United-States   less than or equal to 50,000  \n",
      "31968            40   United-States   less than or equal to 50,000  \n",
      "\n",
      "[1816 rows x 13 columns]\n"
     ]
    }
   ],
   "source": [
    "# Considering at least one column value is missing\n",
    "missing=data[data.isnull().any(axis=1)]\n",
    "print(missing)"
   ]
  },
  {
   "cell_type": "markdown",
   "id": "7c3248f8",
   "metadata": {},
   "source": [
    "**Missing data :**\n",
    "* Missing values in Jobtype = 1809 \n",
    "* Missing values in Occupation = 1816\n",
    "* 1809 rows have both Jobtype and Occupation missing.\n",
    "* 7 rows have Jobtype as Never worked, and Occupation to be missing.\n",
    "* Since, it is a complicated scenerio to fill the missing data, we are removing them."
   ]
  },
  {
   "cell_type": "code",
   "execution_count": 15,
   "id": "e6dd4741",
   "metadata": {},
   "outputs": [],
   "source": [
    "# Removing rows with missing values\n",
    "data2=data.dropna(axis=0)"
   ]
  },
  {
   "cell_type": "code",
   "execution_count": 16,
   "id": "fb18d87a",
   "metadata": {},
   "outputs": [
    {
     "data": {
      "text/html": [
       "<div>\n",
       "<style scoped>\n",
       "    .dataframe tbody tr th:only-of-type {\n",
       "        vertical-align: middle;\n",
       "    }\n",
       "\n",
       "    .dataframe tbody tr th {\n",
       "        vertical-align: top;\n",
       "    }\n",
       "\n",
       "    .dataframe thead th {\n",
       "        text-align: right;\n",
       "    }\n",
       "</style>\n",
       "<table border=\"1\" class=\"dataframe\">\n",
       "  <thead>\n",
       "    <tr style=\"text-align: right;\">\n",
       "      <th></th>\n",
       "      <th>age</th>\n",
       "      <th>capitalgain</th>\n",
       "      <th>capitalloss</th>\n",
       "      <th>hoursperweek</th>\n",
       "    </tr>\n",
       "  </thead>\n",
       "  <tbody>\n",
       "    <tr>\n",
       "      <th>age</th>\n",
       "      <td>1.000000</td>\n",
       "      <td>0.080154</td>\n",
       "      <td>0.060165</td>\n",
       "      <td>0.101599</td>\n",
       "    </tr>\n",
       "    <tr>\n",
       "      <th>capitalgain</th>\n",
       "      <td>0.080154</td>\n",
       "      <td>1.000000</td>\n",
       "      <td>-0.032229</td>\n",
       "      <td>0.080432</td>\n",
       "    </tr>\n",
       "    <tr>\n",
       "      <th>capitalloss</th>\n",
       "      <td>0.060165</td>\n",
       "      <td>-0.032229</td>\n",
       "      <td>1.000000</td>\n",
       "      <td>0.052417</td>\n",
       "    </tr>\n",
       "    <tr>\n",
       "      <th>hoursperweek</th>\n",
       "      <td>0.101599</td>\n",
       "      <td>0.080432</td>\n",
       "      <td>0.052417</td>\n",
       "      <td>1.000000</td>\n",
       "    </tr>\n",
       "  </tbody>\n",
       "</table>\n",
       "</div>"
      ],
      "text/plain": [
       "                   age  capitalgain  capitalloss  hoursperweek\n",
       "age           1.000000     0.080154     0.060165      0.101599\n",
       "capitalgain   0.080154     1.000000    -0.032229      0.080432\n",
       "capitalloss   0.060165    -0.032229     1.000000      0.052417\n",
       "hoursperweek  0.101599     0.080432     0.052417      1.000000"
      ]
     },
     "execution_count": 16,
     "metadata": {},
     "output_type": "execute_result"
    }
   ],
   "source": [
    "# Relationship between independent variables\n",
    "data2.corr()"
   ]
  },
  {
   "cell_type": "markdown",
   "id": "6a18638d",
   "metadata": {},
   "source": [
    "Non of the variables are correlated with each other."
   ]
  },
  {
   "cell_type": "code",
   "execution_count": 17,
   "id": "a82f7b88",
   "metadata": {},
   "outputs": [
    {
     "data": {
      "text/plain": [
       "Index(['age', 'JobType', 'EdType', 'maritalstatus', 'occupation',\n",
       "       'relationship', 'race', 'gender', 'capitalgain', 'capitalloss',\n",
       "       'hoursperweek', 'nativecountry', 'SalStat'],\n",
       "      dtype='object')"
      ]
     },
     "execution_count": 17,
     "metadata": {},
     "output_type": "execute_result"
    }
   ],
   "source": [
    "# Cross tables and Data Visualization\n",
    "data2.columns"
   ]
  },
  {
   "cell_type": "code",
   "execution_count": 18,
   "id": "64078edf",
   "metadata": {},
   "outputs": [
    {
     "name": "stdout",
     "output_type": "stream",
     "text": [
      "col_0       count\n",
      "gender           \n",
      " Female  0.324315\n",
      " Male    0.675685\n"
     ]
    }
   ],
   "source": [
    "# Gender proportion table\n",
    "gender=pd.crosstab(index=data2[\"gender\"],columns=\"count\",normalize=True)\n",
    "print(gender)"
   ]
  },
  {
   "cell_type": "code",
   "execution_count": 19,
   "id": "8d837708",
   "metadata": {},
   "outputs": [
    {
     "name": "stdout",
     "output_type": "stream",
     "text": [
      "SalStat   greater than 50,000   less than or equal to 50,000\n",
      "gender                                                      \n",
      " Female              0.113678                       0.886322\n",
      " Male                0.313837                       0.686163\n",
      "All                  0.248922                       0.751078\n"
     ]
    }
   ],
   "source": [
    "# Gender vs Salary Status two way table\n",
    "gender_salstat=pd.crosstab(index=data2[\"gender\"],columns=data2[\"SalStat\"],margins=True,normalize=\"index\")\n",
    "print(gender_salstat)"
   ]
  },
  {
   "cell_type": "code",
   "execution_count": 20,
   "id": "0a400954",
   "metadata": {},
   "outputs": [
    {
     "name": "stderr",
     "output_type": "stream",
     "text": [
      "C:\\Users\\ASUS\\anaconda3\\lib\\site-packages\\seaborn\\_decorators.py:36: FutureWarning: Pass the following variable as a keyword arg: x. From version 0.12, the only valid positional argument will be `data`, and passing other arguments without an explicit keyword will result in an error or misinterpretation.\n",
      "  warnings.warn(\n"
     ]
    },
    {
     "data": {
      "text/plain": [
       "<AxesSubplot:xlabel='SalStat', ylabel='count'>"
      ]
     },
     "execution_count": 20,
     "metadata": {},
     "output_type": "execute_result"
    },
    {
     "data": {
      "image/png": "[encoded data removed]",
      "text/plain": [
       "<Figure size 432x288 with 1 Axes>"
      ]
     },
     "metadata": {
      "needs_background": "light"
     },
     "output_type": "display_data"
    }
   ],
   "source": [
    "# Frequency distribution of Salary Status\n",
    "sns.countplot(data2[\"SalStat\"])"
   ]
  },
  {
   "cell_type": "code",
   "execution_count": 21,
   "id": "da3f74b6",
   "metadata": {},
   "outputs": [
    {
     "data": {
      "text/plain": [
       "<AxesSubplot:xlabel='JobType', ylabel='age'>"
      ]
     },
     "execution_count": 21,
     "metadata": {},
     "output_type": "execute_result"
    },
    {
     "data": {
      "image/png": "[encoded data removed]",
      "text/plain": [
       "<Figure size 432x288 with 1 Axes>"
      ]
     },
     "metadata": {
      "needs_background": "light"
     },
     "output_type": "display_data"
    }
   ],
   "source": [
    "# Barplot for Jobtype vs Age\n",
    "sns.barplot(x=data2[\"JobType\"],y=data2[\"age\"])"
   ]
  },
  {
   "cell_type": "code",
   "execution_count": 22,
   "id": "11155b99",
   "metadata": {},
   "outputs": [
    {
     "data": {
      "text/plain": [
       "<AxesSubplot:xlabel='JobType', ylabel='age'>"
      ]
     },
     "execution_count": 22,
     "metadata": {},
     "output_type": "execute_result"
    },
    {
     "data": {
      "image/png": "[encoded data removed]",
      "text/plain": [
       "<Figure size 432x288 with 1 Axes>"
      ]
     },
     "metadata": {
      "needs_background": "light"
     },
     "output_type": "display_data"
    }
   ],
   "source": [
    "# Barplot for Jobtype vs Age with hue Salary Status\n",
    "sns.barplot(x='JobType',y='age',data=data2, palette='rainbow',hue='SalStat')"
   ]
  },
  {
   "cell_type": "code",
   "execution_count": 23,
   "id": "9a974ba0",
   "metadata": {},
   "outputs": [
    {
     "data": {
      "text/plain": [
       "<seaborn.axisgrid.FacetGrid at 0x2d723eb8c70>"
      ]
     },
     "execution_count": 23,
     "metadata": {},
     "output_type": "execute_result"
    },
    {
     "data": {
      "image/png": "[encoded data removed]",
      "text/plain": [
       "<Figure size 360x360 with 1 Axes>"
      ]
     },
     "metadata": {
      "needs_background": "light"
     },
     "output_type": "display_data"
    }
   ],
   "source": [
    "# Histogram of Capital gain\n",
    "sns.displot(data2[\"capitalgain\"],bins=10,kde=False)"
   ]
  },
  {
   "cell_type": "code",
   "execution_count": 24,
   "id": "b46caec8",
   "metadata": {},
   "outputs": [
    {
     "data": {
      "text/plain": [
       "<seaborn.axisgrid.FacetGrid at 0x2d730083bb0>"
      ]
     },
     "execution_count": 24,
     "metadata": {},
     "output_type": "execute_result"
    },
    {
     "data": {
      "image/png": "[encoded data removed]",
      "text/plain": [
       "<Figure size 360x360 with 1 Axes>"
      ]
     },
     "metadata": {
      "needs_background": "light"
     },
     "output_type": "display_data"
    }
   ],
   "source": [
    "# Histogram of Capital loss\n",
    "sns.displot(data2[\"capitalloss\"],bins=10,kde=False)"
   ]
  },
  {
   "cell_type": "code",
   "execution_count": 25,
   "id": "afedb4e4",
   "metadata": {},
   "outputs": [
    {
     "name": "stderr",
     "output_type": "stream",
     "text": [
      "C:\\Users\\ASUS\\anaconda3\\lib\\site-packages\\seaborn\\_decorators.py:36: FutureWarning: Pass the following variables as keyword args: x, y. From version 0.12, the only valid positional argument will be `data`, and passing other arguments without an explicit keyword will result in an error or misinterpretation.\n",
      "  warnings.warn(\n"
     ]
    },
    {
     "data": {
      "text/plain": [
       "<AxesSubplot:xlabel='SalStat', ylabel='hoursperweek'>"
      ]
     },
     "execution_count": 25,
     "metadata": {},
     "output_type": "execute_result"
    },
    {
     "data": {
      "image/png": "[encoded data removed]",
      "text/plain": [
       "<Figure size 432x288 with 1 Axes>"
      ]
     },
     "metadata": {
      "needs_background": "light"
     },
     "output_type": "display_data"
    }
   ],
   "source": [
    "# Box Plot for Hours per week vs Salary status\n",
    "sns.boxplot(\"SalStat\",\"hoursperweek\",data=data2)\n"
   ]
  },
  {
   "cell_type": "markdown",
   "id": "752010a9",
   "metadata": {},
   "source": [
    "**Insights from the Exploratory Data Analysis :**\n",
    "* People with age 20-45 age are high in frequency\n",
    "* People with 35-50 age are more likely to earn > 50000 USD per year\n",
    "* People with 25-35 age are more likely to earn <= 50000 USD per year\n",
    "* 56% of self employed people earn more than 50000 USD per year\n",
    "* People with Doctorate,Masters,Prof-school are more likely to earn more than 50000 USD per year\n",
    "* Managers and professionals are more likely to earn 50000 USD per year\n",
    "* 92% of the capital gain is 0\n",
    "* 95% of the capital loss is 0\n",
    "* People who earn more than 50000 USD per year are more likely to spend 40-50 hours per week"
   ]
  },
  {
   "cell_type": "code",
   "execution_count": 26,
   "id": "4d4f82a3",
   "metadata": {},
   "outputs": [],
   "source": [
    "data3=data2.copy()"
   ]
  },
  {
   "cell_type": "markdown",
   "id": "97067a41",
   "metadata": {},
   "source": [
    "**LOGISTIC REGRESSION**"
   ]
  },
  {
   "cell_type": "code",
   "execution_count": 27,
   "id": "1d90377c",
   "metadata": {},
   "outputs": [
    {
     "name": "stdout",
     "output_type": "stream",
     "text": [
      "0        0\n",
      "1        0\n",
      "2        1\n",
      "3        0\n",
      "4        0\n",
      "        ..\n",
      "31973    0\n",
      "31974    0\n",
      "31975    0\n",
      "31976    0\n",
      "31977    0\n",
      "Name: SalStat, Length: 30162, dtype: int64\n"
     ]
    },
    {
     "name": "stderr",
     "output_type": "stream",
     "text": [
      "<ipython-input-27-55e11a6d1926>:2: SettingWithCopyWarning: \n",
      "A value is trying to be set on a copy of a slice from a DataFrame.\n",
      "Try using .loc[row_indexer,col_indexer] = value instead\n",
      "\n",
      "See the caveats in the documentation: https://pandas.pydata.org/pandas-docs/stable/user_guide/indexing.html#returning-a-view-versus-a-copy\n",
      "  data2[\"SalStat\"]=data2[\"SalStat\"].map({\" less than or equal to 50,000\":0,\" greater than 50,000\":1})\n"
     ]
    }
   ],
   "source": [
    "# Reindexing the Salary status names to 0,1 since Machine Learning models cannot work with catergorical values\n",
    "data2[\"SalStat\"]=data2[\"SalStat\"].map({\" less than or equal to 50,000\":0,\" greater than 50,000\":1})\n",
    "print(data2[\"SalStat\"])"
   ]
  },
  {
   "cell_type": "code",
   "execution_count": 28,
   "id": "9373c606",
   "metadata": {},
   "outputs": [
    {
     "name": "stdout",
     "output_type": "stream",
     "text": [
      "       age  capitalgain  capitalloss  hoursperweek  SalStat  \\\n",
      "0       45            0            0            28        0   \n",
      "1       24            0            0            40        0   \n",
      "2       44            0            0            40        1   \n",
      "3       27            0            0            40        0   \n",
      "4       20            0            0            35        0   \n",
      "...    ...          ...          ...           ...      ...   \n",
      "31973   34          594            0            60        0   \n",
      "31974   34            0            0            40        0   \n",
      "31975   23            0            0            40        0   \n",
      "31976   42            0            0            40        0   \n",
      "31977   29            0            0            40        0   \n",
      "\n",
      "       JobType_ Local-gov  JobType_ Private  JobType_ Self-emp-inc  \\\n",
      "0                       0                 1                      0   \n",
      "1                       0                 0                      0   \n",
      "2                       0                 1                      0   \n",
      "3                       0                 1                      0   \n",
      "4                       0                 1                      0   \n",
      "...                   ...               ...                    ...   \n",
      "31973                   1                 0                      0   \n",
      "31974                   1                 0                      0   \n",
      "31975                   0                 1                      0   \n",
      "31976                   1                 0                      0   \n",
      "31977                   0                 1                      0   \n",
      "\n",
      "       JobType_ Self-emp-not-inc  JobType_ State-gov  ...  \\\n",
      "0                              0                   0  ...   \n",
      "1                              0                   0  ...   \n",
      "2                              0                   0  ...   \n",
      "3                              0                   0  ...   \n",
      "4                              0                   0  ...   \n",
      "...                          ...                 ...  ...   \n",
      "31973                          0                   0  ...   \n",
      "31974                          0                   0  ...   \n",
      "31975                          0                   0  ...   \n",
      "31976                          0                   0  ...   \n",
      "31977                          0                   0  ...   \n",
      "\n",
      "       nativecountry_ Portugal  nativecountry_ Puerto-Rico  \\\n",
      "0                            0                           0   \n",
      "1                            0                           0   \n",
      "2                            0                           0   \n",
      "3                            0                           0   \n",
      "4                            0                           0   \n",
      "...                        ...                         ...   \n",
      "31973                        0                           0   \n",
      "31974                        0                           0   \n",
      "31975                        0                           0   \n",
      "31976                        0                           0   \n",
      "31977                        0                           0   \n",
      "\n",
      "       nativecountry_ Scotland  nativecountry_ South  nativecountry_ Taiwan  \\\n",
      "0                            0                     0                      0   \n",
      "1                            0                     0                      0   \n",
      "2                            0                     0                      0   \n",
      "3                            0                     0                      0   \n",
      "4                            0                     0                      0   \n",
      "...                        ...                   ...                    ...   \n",
      "31973                        0                     0                      0   \n",
      "31974                        0                     0                      0   \n",
      "31975                        0                     0                      0   \n",
      "31976                        0                     0                      0   \n",
      "31977                        0                     0                      0   \n",
      "\n",
      "       nativecountry_ Thailand  nativecountry_ Trinadad&Tobago  \\\n",
      "0                            0                               0   \n",
      "1                            0                               0   \n",
      "2                            0                               0   \n",
      "3                            0                               0   \n",
      "4                            0                               0   \n",
      "...                        ...                             ...   \n",
      "31973                        0                               0   \n",
      "31974                        0                               0   \n",
      "31975                        0                               0   \n",
      "31976                        0                               0   \n",
      "31977                        0                               0   \n",
      "\n",
      "       nativecountry_ United-States  nativecountry_ Vietnam  \\\n",
      "0                                 1                       0   \n",
      "1                                 1                       0   \n",
      "2                                 1                       0   \n",
      "3                                 0                       0   \n",
      "4                                 1                       0   \n",
      "...                             ...                     ...   \n",
      "31973                             1                       0   \n",
      "31974                             1                       0   \n",
      "31975                             1                       0   \n",
      "31976                             1                       0   \n",
      "31977                             1                       0   \n",
      "\n",
      "       nativecountry_ Yugoslavia  \n",
      "0                              0  \n",
      "1                              0  \n",
      "2                              0  \n",
      "3                              0  \n",
      "4                              0  \n",
      "...                          ...  \n",
      "31973                          0  \n",
      "31974                          0  \n",
      "31975                          0  \n",
      "31976                          0  \n",
      "31977                          0  \n",
      "\n",
      "[30162 rows x 95 columns]\n"
     ]
    }
   ],
   "source": [
    "# Convert catergorical variables to dummies\n",
    "new_data=pd.get_dummies(data2,drop_first=True)\n",
    "print(new_data)"
   ]
  },
  {
   "cell_type": "code",
   "execution_count": 29,
   "id": "931a66d0",
   "metadata": {},
   "outputs": [
    {
     "name": "stdout",
     "output_type": "stream",
     "text": [
      "['age', 'capitalgain', 'capitalloss', 'hoursperweek', 'SalStat', 'JobType_ Local-gov', 'JobType_ Private', 'JobType_ Self-emp-inc', 'JobType_ Self-emp-not-inc', 'JobType_ State-gov', 'JobType_ Without-pay', 'EdType_ 11th', 'EdType_ 12th', 'EdType_ 1st-4th', 'EdType_ 5th-6th', 'EdType_ 7th-8th', 'EdType_ 9th', 'EdType_ Assoc-acdm', 'EdType_ Assoc-voc', 'EdType_ Bachelors', 'EdType_ Doctorate', 'EdType_ HS-grad', 'EdType_ Masters', 'EdType_ Preschool', 'EdType_ Prof-school', 'EdType_ Some-college', 'maritalstatus_ Married-AF-spouse', 'maritalstatus_ Married-civ-spouse', 'maritalstatus_ Married-spouse-absent', 'maritalstatus_ Never-married', 'maritalstatus_ Separated', 'maritalstatus_ Widowed', 'occupation_ Armed-Forces', 'occupation_ Craft-repair', 'occupation_ Exec-managerial', 'occupation_ Farming-fishing', 'occupation_ Handlers-cleaners', 'occupation_ Machine-op-inspct', 'occupation_ Other-service', 'occupation_ Priv-house-serv', 'occupation_ Prof-specialty', 'occupation_ Protective-serv', 'occupation_ Sales', 'occupation_ Tech-support', 'occupation_ Transport-moving', 'relationship_ Not-in-family', 'relationship_ Other-relative', 'relationship_ Own-child', 'relationship_ Unmarried', 'relationship_ Wife', 'race_ Asian-Pac-Islander', 'race_ Black', 'race_ Other', 'race_ White', 'gender_ Male', 'nativecountry_ Canada', 'nativecountry_ China', 'nativecountry_ Columbia', 'nativecountry_ Cuba', 'nativecountry_ Dominican-Republic', 'nativecountry_ Ecuador', 'nativecountry_ El-Salvador', 'nativecountry_ England', 'nativecountry_ France', 'nativecountry_ Germany', 'nativecountry_ Greece', 'nativecountry_ Guatemala', 'nativecountry_ Haiti', 'nativecountry_ Holand-Netherlands', 'nativecountry_ Honduras', 'nativecountry_ Hong', 'nativecountry_ Hungary', 'nativecountry_ India', 'nativecountry_ Iran', 'nativecountry_ Ireland', 'nativecountry_ Italy', 'nativecountry_ Jamaica', 'nativecountry_ Japan', 'nativecountry_ Laos', 'nativecountry_ Mexico', 'nativecountry_ Nicaragua', 'nativecountry_ Outlying-US(Guam-USVI-etc)', 'nativecountry_ Peru', 'nativecountry_ Philippines', 'nativecountry_ Poland', 'nativecountry_ Portugal', 'nativecountry_ Puerto-Rico', 'nativecountry_ Scotland', 'nativecountry_ South', 'nativecountry_ Taiwan', 'nativecountry_ Thailand', 'nativecountry_ Trinadad&Tobago', 'nativecountry_ United-States', 'nativecountry_ Vietnam', 'nativecountry_ Yugoslavia']\n"
     ]
    }
   ],
   "source": [
    "# Storing the column names\n",
    "column_list=list(new_data.columns)\n",
    "print(column_list)"
   ]
  },
  {
   "cell_type": "code",
   "execution_count": 30,
   "id": "c08847d9",
   "metadata": {},
   "outputs": [
    {
     "name": "stdout",
     "output_type": "stream",
     "text": [
      "['nativecountry_ Outlying-US(Guam-USVI-etc)', 'hoursperweek', 'nativecountry_ Dominican-Republic', 'EdType_ 1st-4th', 'EdType_ Some-college', 'occupation_ Sales', 'occupation_ Other-service', 'maritalstatus_ Married-civ-spouse', 'occupation_ Prof-specialty', 'occupation_ Handlers-cleaners', 'race_ Asian-Pac-Islander', 'EdType_ Bachelors', 'nativecountry_ Germany', 'nativecountry_ Cuba', 'nativecountry_ Hungary', 'nativecountry_ England', 'nativecountry_ Haiti', 'nativecountry_ France', 'nativecountry_ Puerto-Rico', 'nativecountry_ Poland', 'occupation_ Armed-Forces', 'nativecountry_ India', 'nativecountry_ Greece', 'maritalstatus_ Married-spouse-absent', 'JobType_ Self-emp-not-inc', 'nativecountry_ South', 'JobType_ Private', 'EdType_ Assoc-voc', 'occupation_ Protective-serv', 'occupation_ Exec-managerial', 'JobType_ Without-pay', 'EdType_ 5th-6th', 'EdType_ Assoc-acdm', 'nativecountry_ Jamaica', 'nativecountry_ United-States', 'nativecountry_ Thailand', 'nativecountry_ Laos', 'nativecountry_ Hong', 'EdType_ Preschool', 'maritalstatus_ Separated', 'relationship_ Other-relative', 'gender_ Male', 'nativecountry_ Holand-Netherlands', 'JobType_ Self-emp-inc', 'EdType_ Doctorate', 'nativecountry_ Yugoslavia', 'EdType_ HS-grad', 'race_ White', 'EdType_ Masters', 'nativecountry_ Peru', 'nativecountry_ Taiwan', 'relationship_ Own-child', 'nativecountry_ Portugal', 'occupation_ Transport-moving', 'nativecountry_ Canada', 'EdType_ Prof-school', 'race_ Black', 'occupation_ Priv-house-serv', 'nativecountry_ Columbia', 'nativecountry_ Ecuador', 'nativecountry_ Italy', 'nativecountry_ Vietnam', 'nativecountry_ Ireland', 'JobType_ Local-gov', 'race_ Other', 'nativecountry_ Scotland', 'relationship_ Wife', 'maritalstatus_ Never-married', 'nativecountry_ Honduras', 'nativecountry_ Trinadad&Tobago', 'nativecountry_ Japan', 'EdType_ 7th-8th', 'nativecountry_ Mexico', 'nativecountry_ Guatemala', 'capitalgain', 'occupation_ Farming-fishing', 'occupation_ Machine-op-inspct', 'nativecountry_ Nicaragua', 'nativecountry_ Iran', 'occupation_ Craft-repair', 'maritalstatus_ Widowed', 'EdType_ 12th', 'maritalstatus_ Married-AF-spouse', 'nativecountry_ China', 'JobType_ State-gov', 'nativecountry_ Philippines', 'capitalloss', 'EdType_ 9th', 'occupation_ Tech-support', 'nativecountry_ El-Salvador', 'age', 'EdType_ 11th', 'relationship_ Not-in-family', 'relationship_ Unmarried']\n"
     ]
    }
   ],
   "source": [
    "# Seperating the input names from data\n",
    "features=list(set(column_list)-set([\"SalStat\"]))\n",
    "print(features)"
   ]
  },
  {
   "cell_type": "code",
   "execution_count": 31,
   "id": "59374747",
   "metadata": {},
   "outputs": [
    {
     "name": "stdout",
     "output_type": "stream",
     "text": [
      "[0 0 1 ... 0 0 0]\n"
     ]
    }
   ],
   "source": [
    "# Storing the output in y (dependent variable)\n",
    "y=new_data[\"SalStat\"].values\n",
    "print(y)"
   ]
  },
  {
   "cell_type": "code",
   "execution_count": 32,
   "id": "b59e715e",
   "metadata": {},
   "outputs": [
    {
     "name": "stdout",
     "output_type": "stream",
     "text": [
      "[[ 0 28  0 ...  0  1  0]\n",
      " [ 0 40  0 ...  0  0  0]\n",
      " [ 0 40  0 ...  0  0  0]\n",
      " ...\n",
      " [ 0 40  0 ...  0  0  0]\n",
      " [ 0 40  0 ...  0  0  0]\n",
      " [ 0 40  0 ...  0  1  0]]\n"
     ]
    }
   ],
   "source": [
    "# Storing the values from input features (independent variable)\n",
    "x=new_data[features].values\n",
    "print(x)"
   ]
  },
  {
   "cell_type": "code",
   "execution_count": 33,
   "id": "bc22cff7",
   "metadata": {},
   "outputs": [
    {
     "name": "stdout",
     "output_type": "stream",
     "text": [
      "[[ 0 40  0 ...  1  0  0]\n",
      " [ 0 38  0 ...  0  0  0]\n",
      " [ 0 30  1 ...  0  0  0]\n",
      " ...\n",
      " [ 0 50  0 ...  0  0  0]\n",
      " [ 0 25  0 ...  0  0  0]\n",
      " [ 0 50  0 ...  0  1  0]]\n"
     ]
    }
   ],
   "source": [
    "# Splitting the data into train and test\n",
    "train_x,test_x,train_y,test_y=train_test_split(x,y,test_size=0.3,random_state=0)\n",
    "print(train_x)"
   ]
  },
  {
   "cell_type": "code",
   "execution_count": 34,
   "id": "ac587219",
   "metadata": {},
   "outputs": [],
   "source": [
    "# Make an instance of the Model\n",
    "logistic= LogisticRegression()"
   ]
  },
  {
   "cell_type": "code",
   "execution_count": 35,
   "id": "6fb3ce87",
   "metadata": {},
   "outputs": [
    {
     "name": "stdout",
     "output_type": "stream",
     "text": [
      "LogisticRegression()\n",
      "[[-7.40036871e-03  9.03842879e-03 -2.56532664e-02 -7.15053430e-02\n",
      "  -3.95741270e-01  9.75595485e-02 -7.40094498e-01  1.13494953e+00\n",
      "   6.82535007e-01 -3.38778384e-01 -1.17552954e-01  7.21388818e-01\n",
      "   1.45250895e-02 -8.17160641e-03 -3.26600478e-03  1.26822456e-02\n",
      "  -1.18067060e-02  5.70051645e-03 -4.12815207e-02 -9.32651015e-03\n",
      "  -1.93605457e-03 -2.02030016e-02 -8.30629060e-03 -5.83344922e-02\n",
      "  -5.81197429e-01 -2.64748547e-02 -3.28185579e-01 -3.84869722e-02\n",
      "  -1.41312229e-02  8.96333506e-01 -8.11207298e-03 -1.40000007e-01\n",
      "  -5.95483383e-02 -1.19700557e-02 -4.25992941e-01 -3.32713018e-03\n",
      "  -6.13310345e-03 -1.25429518e-03 -2.63112647e-02 -1.79272071e-01\n",
      "  -2.44243620e-01  1.65322316e-01 -8.91127264e-04  1.61641416e-01\n",
      "   2.48019292e-01 -5.14840971e-04 -9.34910515e-01 -3.25917112e-01\n",
      "   5.25832023e-01 -1.20607186e-02  1.96820155e-03 -9.41329951e-01\n",
      "  -1.37000187e-02 -1.94929168e-01  3.59715689e-03  2.33557961e-01\n",
      "  -4.33490481e-01 -4.05997767e-02 -2.01605761e-02 -7.22733430e-03\n",
      "  -1.84100685e-03 -3.36225210e-02 -3.87662510e-03 -2.47260978e-01\n",
      "  -8.38190354e-02 -3.28725753e-03  2.46098579e-01 -1.34890943e+00\n",
      "  -2.24185874e-03 -4.48333793e-03 -4.68999122e-04 -2.49537056e-01\n",
      "  -2.56964113e-01 -2.17238924e-02  3.17470456e-04 -3.89273020e-01\n",
      "  -3.50166294e-01 -1.28610288e-02 -2.68650954e-03 -3.21214656e-01\n",
      "  -9.75100869e-02 -9.56685454e-02  1.64667563e-02 -2.23652034e-02\n",
      "  -1.26400485e-01 -8.15761873e-03  6.67330138e-04 -1.72044097e-01\n",
      "   1.16718925e-01 -3.95911533e-02  4.81154935e-04 -3.04076989e-01\n",
      "  -5.01006911e-01 -5.75253132e-01]]\n",
      "[-1.0401847]\n"
     ]
    },
    {
     "name": "stderr",
     "output_type": "stream",
     "text": [
      "C:\\Users\\ASUS\\anaconda3\\lib\\site-packages\\sklearn\\linear_model\\_logistic.py:763: ConvergenceWarning: lbfgs failed to converge (status=1):\n",
      "STOP: TOTAL NO. of ITERATIONS REACHED LIMIT.\n",
      "\n",
      "Increase the number of iterations (max_iter) or scale the data as shown in:\n",
      "    https://scikit-learn.org/stable/modules/preprocessing.html\n",
      "Please also refer to the documentation for alternative solver options:\n",
      "    https://scikit-learn.org/stable/modules/linear_model.html#logistic-regression\n",
      "  n_iter_i = _check_optimize_result(\n"
     ]
    }
   ],
   "source": [
    "# Fitting the values for x and y\n",
    "print(logistic.fit(train_x,train_y))\n",
    "print(logistic.coef_)\n",
    "print(logistic.intercept_)"
   ]
  },
  {
   "cell_type": "code",
   "execution_count": 36,
   "id": "b96d1dc3",
   "metadata": {},
   "outputs": [
    {
     "name": "stdout",
     "output_type": "stream",
     "text": [
      "[0 0 0 ... 0 0 0]\n"
     ]
    }
   ],
   "source": [
    "# Prediction from test data\n",
    "prediction1=logistic.predict(test_x)\n",
    "print(prediction1)"
   ]
  },
  {
   "cell_type": "markdown",
   "id": "9835742a",
   "metadata": {},
   "source": [
    "**EVALUATION OF MODEL**"
   ]
  },
  {
   "cell_type": "code",
   "execution_count": 37,
   "id": "e14d5659",
   "metadata": {},
   "outputs": [
    {
     "name": "stdout",
     "output_type": "stream",
     "text": [
      "[[6291  532]\n",
      " [ 946 1280]]\n"
     ]
    }
   ],
   "source": [
    "# Confusion matrix\n",
    "cm=confusion_matrix(test_y,prediction1)\n",
    "print(cm)"
   ]
  },
  {
   "cell_type": "code",
   "execution_count": 38,
   "id": "9cb7b2e0",
   "metadata": {},
   "outputs": [
    {
     "name": "stdout",
     "output_type": "stream",
     "text": [
      "0.8366670350314952\n"
     ]
    }
   ],
   "source": [
    "# Calculating the accuracy\n",
    "as1=accuracy_score(test_y,prediction1)\n",
    "print(as1)"
   ]
  },
  {
   "cell_type": "code",
   "execution_count": 39,
   "id": "c7f3b083",
   "metadata": {},
   "outputs": [
    {
     "name": "stdout",
     "output_type": "stream",
     "text": [
      "Misclassified samples: 1478\n"
     ]
    }
   ],
   "source": [
    "# Printing the misclassified values from prediction\n",
    "print(\"Misclassified samples: %d\" %(test_y != prediction1).sum())"
   ]
  },
  {
   "cell_type": "markdown",
   "id": "95d2b89d",
   "metadata": {},
   "source": [
    "**Result:**\n",
    "* The Accuracy score of the above model is 0.83666\n",
    "* There are 1478 misclassified samples."
   ]
  },
  {
   "cell_type": "markdown",
   "id": "81881987",
   "metadata": {},
   "source": [
    "**LOGISTIC REGRESSION - REMOVING INSIGNIFICANT VARIABLES**"
   ]
  },
  {
   "cell_type": "code",
   "execution_count": 40,
   "id": "13af7cba",
   "metadata": {},
   "outputs": [
    {
     "data": {
      "text/html": [
       "<div>\n",
       "<style scoped>\n",
       "    .dataframe tbody tr th:only-of-type {\n",
       "        vertical-align: middle;\n",
       "    }\n",
       "\n",
       "    .dataframe tbody tr th {\n",
       "        vertical-align: top;\n",
       "    }\n",
       "\n",
       "    .dataframe thead th {\n",
       "        text-align: right;\n",
       "    }\n",
       "</style>\n",
       "<table border=\"1\" class=\"dataframe\">\n",
       "  <thead>\n",
       "    <tr style=\"text-align: right;\">\n",
       "      <th></th>\n",
       "      <th>age</th>\n",
       "      <th>JobType</th>\n",
       "      <th>EdType</th>\n",
       "      <th>maritalstatus</th>\n",
       "      <th>occupation</th>\n",
       "      <th>relationship</th>\n",
       "      <th>race</th>\n",
       "      <th>gender</th>\n",
       "      <th>capitalgain</th>\n",
       "      <th>capitalloss</th>\n",
       "      <th>hoursperweek</th>\n",
       "      <th>nativecountry</th>\n",
       "      <th>SalStat</th>\n",
       "    </tr>\n",
       "  </thead>\n",
       "  <tbody>\n",
       "    <tr>\n",
       "      <th>0</th>\n",
       "      <td>45</td>\n",
       "      <td>Private</td>\n",
       "      <td>HS-grad</td>\n",
       "      <td>Divorced</td>\n",
       "      <td>Adm-clerical</td>\n",
       "      <td>Not-in-family</td>\n",
       "      <td>White</td>\n",
       "      <td>Female</td>\n",
       "      <td>0</td>\n",
       "      <td>0</td>\n",
       "      <td>28</td>\n",
       "      <td>United-States</td>\n",
       "      <td>0</td>\n",
       "    </tr>\n",
       "    <tr>\n",
       "      <th>1</th>\n",
       "      <td>24</td>\n",
       "      <td>Federal-gov</td>\n",
       "      <td>HS-grad</td>\n",
       "      <td>Never-married</td>\n",
       "      <td>Armed-Forces</td>\n",
       "      <td>Own-child</td>\n",
       "      <td>White</td>\n",
       "      <td>Male</td>\n",
       "      <td>0</td>\n",
       "      <td>0</td>\n",
       "      <td>40</td>\n",
       "      <td>United-States</td>\n",
       "      <td>0</td>\n",
       "    </tr>\n",
       "    <tr>\n",
       "      <th>2</th>\n",
       "      <td>44</td>\n",
       "      <td>Private</td>\n",
       "      <td>Some-college</td>\n",
       "      <td>Married-civ-spouse</td>\n",
       "      <td>Prof-specialty</td>\n",
       "      <td>Husband</td>\n",
       "      <td>White</td>\n",
       "      <td>Male</td>\n",
       "      <td>0</td>\n",
       "      <td>0</td>\n",
       "      <td>40</td>\n",
       "      <td>United-States</td>\n",
       "      <td>1</td>\n",
       "    </tr>\n",
       "    <tr>\n",
       "      <th>3</th>\n",
       "      <td>27</td>\n",
       "      <td>Private</td>\n",
       "      <td>9th</td>\n",
       "      <td>Never-married</td>\n",
       "      <td>Craft-repair</td>\n",
       "      <td>Other-relative</td>\n",
       "      <td>White</td>\n",
       "      <td>Male</td>\n",
       "      <td>0</td>\n",
       "      <td>0</td>\n",
       "      <td>40</td>\n",
       "      <td>Mexico</td>\n",
       "      <td>0</td>\n",
       "    </tr>\n",
       "    <tr>\n",
       "      <th>4</th>\n",
       "      <td>20</td>\n",
       "      <td>Private</td>\n",
       "      <td>Some-college</td>\n",
       "      <td>Never-married</td>\n",
       "      <td>Sales</td>\n",
       "      <td>Not-in-family</td>\n",
       "      <td>White</td>\n",
       "      <td>Male</td>\n",
       "      <td>0</td>\n",
       "      <td>0</td>\n",
       "      <td>35</td>\n",
       "      <td>United-States</td>\n",
       "      <td>0</td>\n",
       "    </tr>\n",
       "  </tbody>\n",
       "</table>\n",
       "</div>"
      ],
      "text/plain": [
       "   age       JobType         EdType        maritalstatus       occupation  \\\n",
       "0   45       Private        HS-grad             Divorced     Adm-clerical   \n",
       "1   24   Federal-gov        HS-grad        Never-married     Armed-Forces   \n",
       "2   44       Private   Some-college   Married-civ-spouse   Prof-specialty   \n",
       "3   27       Private            9th        Never-married     Craft-repair   \n",
       "4   20       Private   Some-college        Never-married            Sales   \n",
       "\n",
       "      relationship    race   gender  capitalgain  capitalloss  hoursperweek  \\\n",
       "0    Not-in-family   White   Female            0            0            28   \n",
       "1        Own-child   White     Male            0            0            40   \n",
       "2          Husband   White     Male            0            0            40   \n",
       "3   Other-relative   White     Male            0            0            40   \n",
       "4    Not-in-family   White     Male            0            0            35   \n",
       "\n",
       "    nativecountry  SalStat  \n",
       "0   United-States        0  \n",
       "1   United-States        0  \n",
       "2   United-States        1  \n",
       "3          Mexico        0  \n",
       "4   United-States        0  "
      ]
     },
     "execution_count": 40,
     "metadata": {},
     "output_type": "execute_result"
    }
   ],
   "source": [
    "data2.head()"
   ]
  },
  {
   "cell_type": "code",
   "execution_count": 41,
   "id": "a4478c96",
   "metadata": {},
   "outputs": [
    {
     "name": "stdout",
     "output_type": "stream",
     "text": [
      "0        0\n",
      "1        0\n",
      "2        1\n",
      "3        0\n",
      "4        0\n",
      "        ..\n",
      "31973    0\n",
      "31974    0\n",
      "31975    0\n",
      "31976    0\n",
      "31977    0\n",
      "Name: SalStat, Length: 30162, dtype: int64\n"
     ]
    }
   ],
   "source": [
    "# Reindexing the Salary status names to 0,1\n",
    "data3[\"SalStat\"]=data3[\"SalStat\"].map({\" less than or equal to 50,000\":0,\" greater than 50,000\":1})\n",
    "print(data3[\"SalStat\"])"
   ]
  },
  {
   "cell_type": "code",
   "execution_count": 42,
   "id": "65e1ca68",
   "metadata": {},
   "outputs": [
    {
     "name": "stdout",
     "output_type": "stream",
     "text": [
      "       age         EdType        maritalstatus        occupation  \\\n",
      "0       45        HS-grad             Divorced      Adm-clerical   \n",
      "1       24        HS-grad        Never-married      Armed-Forces   \n",
      "2       44   Some-college   Married-civ-spouse    Prof-specialty   \n",
      "3       27            9th        Never-married      Craft-repair   \n",
      "4       20   Some-college        Never-married             Sales   \n",
      "...    ...            ...                  ...               ...   \n",
      "31973   34        HS-grad        Never-married   Farming-fishing   \n",
      "31974   34   Some-college        Never-married   Protective-serv   \n",
      "31975   23   Some-college   Married-civ-spouse      Adm-clerical   \n",
      "31976   42   Some-college   Married-civ-spouse      Adm-clerical   \n",
      "31977   29      Bachelors        Never-married    Prof-specialty   \n",
      "\n",
      "          relationship  capitalgain  capitalloss  hoursperweek  SalStat  \n",
      "0        Not-in-family            0            0            28        0  \n",
      "1            Own-child            0            0            40        0  \n",
      "2              Husband            0            0            40        1  \n",
      "3       Other-relative            0            0            40        0  \n",
      "4        Not-in-family            0            0            35        0  \n",
      "...                ...          ...          ...           ...      ...  \n",
      "31973    Not-in-family          594            0            60        0  \n",
      "31974    Not-in-family            0            0            40        0  \n",
      "31975          Husband            0            0            40        0  \n",
      "31976             Wife            0            0            40        0  \n",
      "31977    Not-in-family            0            0            40        0  \n",
      "\n",
      "[30162 rows x 9 columns]\n"
     ]
    }
   ],
   "source": [
    "# Removing all insignificant variables\n",
    "cols=[\"gender\",\"nativecountry\",\"race\",\"JobType\"]\n",
    "new_data2=data3.drop(cols,axis=1)\n",
    "print(new_data2)"
   ]
  },
  {
   "cell_type": "code",
   "execution_count": 43,
   "id": "f8c6db96",
   "metadata": {},
   "outputs": [
    {
     "name": "stdout",
     "output_type": "stream",
     "text": [
      "       age  capitalgain  capitalloss  hoursperweek  SalStat  \\\n",
      "0       45            0            0            28        0   \n",
      "1       24            0            0            40        0   \n",
      "2       44            0            0            40        1   \n",
      "3       27            0            0            40        0   \n",
      "4       20            0            0            35        0   \n",
      "...    ...          ...          ...           ...      ...   \n",
      "31973   34          594            0            60        0   \n",
      "31974   34            0            0            40        0   \n",
      "31975   23            0            0            40        0   \n",
      "31976   42            0            0            40        0   \n",
      "31977   29            0            0            40        0   \n",
      "\n",
      "       JobType_ Local-gov  JobType_ Private  JobType_ Self-emp-inc  \\\n",
      "0                       0                 1                      0   \n",
      "1                       0                 0                      0   \n",
      "2                       0                 1                      0   \n",
      "3                       0                 1                      0   \n",
      "4                       0                 1                      0   \n",
      "...                   ...               ...                    ...   \n",
      "31973                   1                 0                      0   \n",
      "31974                   1                 0                      0   \n",
      "31975                   0                 1                      0   \n",
      "31976                   1                 0                      0   \n",
      "31977                   0                 1                      0   \n",
      "\n",
      "       JobType_ Self-emp-not-inc  JobType_ State-gov  ...  \\\n",
      "0                              0                   0  ...   \n",
      "1                              0                   0  ...   \n",
      "2                              0                   0  ...   \n",
      "3                              0                   0  ...   \n",
      "4                              0                   0  ...   \n",
      "...                          ...                 ...  ...   \n",
      "31973                          0                   0  ...   \n",
      "31974                          0                   0  ...   \n",
      "31975                          0                   0  ...   \n",
      "31976                          0                   0  ...   \n",
      "31977                          0                   0  ...   \n",
      "\n",
      "       nativecountry_ Portugal  nativecountry_ Puerto-Rico  \\\n",
      "0                            0                           0   \n",
      "1                            0                           0   \n",
      "2                            0                           0   \n",
      "3                            0                           0   \n",
      "4                            0                           0   \n",
      "...                        ...                         ...   \n",
      "31973                        0                           0   \n",
      "31974                        0                           0   \n",
      "31975                        0                           0   \n",
      "31976                        0                           0   \n",
      "31977                        0                           0   \n",
      "\n",
      "       nativecountry_ Scotland  nativecountry_ South  nativecountry_ Taiwan  \\\n",
      "0                            0                     0                      0   \n",
      "1                            0                     0                      0   \n",
      "2                            0                     0                      0   \n",
      "3                            0                     0                      0   \n",
      "4                            0                     0                      0   \n",
      "...                        ...                   ...                    ...   \n",
      "31973                        0                     0                      0   \n",
      "31974                        0                     0                      0   \n",
      "31975                        0                     0                      0   \n",
      "31976                        0                     0                      0   \n",
      "31977                        0                     0                      0   \n",
      "\n",
      "       nativecountry_ Thailand  nativecountry_ Trinadad&Tobago  \\\n",
      "0                            0                               0   \n",
      "1                            0                               0   \n",
      "2                            0                               0   \n",
      "3                            0                               0   \n",
      "4                            0                               0   \n",
      "...                        ...                             ...   \n",
      "31973                        0                               0   \n",
      "31974                        0                               0   \n",
      "31975                        0                               0   \n",
      "31976                        0                               0   \n",
      "31977                        0                               0   \n",
      "\n",
      "       nativecountry_ United-States  nativecountry_ Vietnam  \\\n",
      "0                                 1                       0   \n",
      "1                                 1                       0   \n",
      "2                                 1                       0   \n",
      "3                                 0                       0   \n",
      "4                                 1                       0   \n",
      "...                             ...                     ...   \n",
      "31973                             1                       0   \n",
      "31974                             1                       0   \n",
      "31975                             1                       0   \n",
      "31976                             1                       0   \n",
      "31977                             1                       0   \n",
      "\n",
      "       nativecountry_ Yugoslavia  \n",
      "0                              0  \n",
      "1                              0  \n",
      "2                              0  \n",
      "3                              0  \n",
      "4                              0  \n",
      "...                          ...  \n",
      "31973                          0  \n",
      "31974                          0  \n",
      "31975                          0  \n",
      "31976                          0  \n",
      "31977                          0  \n",
      "\n",
      "[30162 rows x 95 columns]\n"
     ]
    }
   ],
   "source": [
    "# Convert catergorical variables to dummies\n",
    "new_data2=pd.get_dummies(data3,drop_first=True)\n",
    "print(new_data2)"
   ]
  },
  {
   "cell_type": "code",
   "execution_count": 44,
   "id": "2cf21987",
   "metadata": {},
   "outputs": [
    {
     "name": "stdout",
     "output_type": "stream",
     "text": [
      "['age', 'capitalgain', 'capitalloss', 'hoursperweek', 'SalStat', 'JobType_ Local-gov', 'JobType_ Private', 'JobType_ Self-emp-inc', 'JobType_ Self-emp-not-inc', 'JobType_ State-gov', 'JobType_ Without-pay', 'EdType_ 11th', 'EdType_ 12th', 'EdType_ 1st-4th', 'EdType_ 5th-6th', 'EdType_ 7th-8th', 'EdType_ 9th', 'EdType_ Assoc-acdm', 'EdType_ Assoc-voc', 'EdType_ Bachelors', 'EdType_ Doctorate', 'EdType_ HS-grad', 'EdType_ Masters', 'EdType_ Preschool', 'EdType_ Prof-school', 'EdType_ Some-college', 'maritalstatus_ Married-AF-spouse', 'maritalstatus_ Married-civ-spouse', 'maritalstatus_ Married-spouse-absent', 'maritalstatus_ Never-married', 'maritalstatus_ Separated', 'maritalstatus_ Widowed', 'occupation_ Armed-Forces', 'occupation_ Craft-repair', 'occupation_ Exec-managerial', 'occupation_ Farming-fishing', 'occupation_ Handlers-cleaners', 'occupation_ Machine-op-inspct', 'occupation_ Other-service', 'occupation_ Priv-house-serv', 'occupation_ Prof-specialty', 'occupation_ Protective-serv', 'occupation_ Sales', 'occupation_ Tech-support', 'occupation_ Transport-moving', 'relationship_ Not-in-family', 'relationship_ Other-relative', 'relationship_ Own-child', 'relationship_ Unmarried', 'relationship_ Wife', 'race_ Asian-Pac-Islander', 'race_ Black', 'race_ Other', 'race_ White', 'gender_ Male', 'nativecountry_ Canada', 'nativecountry_ China', 'nativecountry_ Columbia', 'nativecountry_ Cuba', 'nativecountry_ Dominican-Republic', 'nativecountry_ Ecuador', 'nativecountry_ El-Salvador', 'nativecountry_ England', 'nativecountry_ France', 'nativecountry_ Germany', 'nativecountry_ Greece', 'nativecountry_ Guatemala', 'nativecountry_ Haiti', 'nativecountry_ Holand-Netherlands', 'nativecountry_ Honduras', 'nativecountry_ Hong', 'nativecountry_ Hungary', 'nativecountry_ India', 'nativecountry_ Iran', 'nativecountry_ Ireland', 'nativecountry_ Italy', 'nativecountry_ Jamaica', 'nativecountry_ Japan', 'nativecountry_ Laos', 'nativecountry_ Mexico', 'nativecountry_ Nicaragua', 'nativecountry_ Outlying-US(Guam-USVI-etc)', 'nativecountry_ Peru', 'nativecountry_ Philippines', 'nativecountry_ Poland', 'nativecountry_ Portugal', 'nativecountry_ Puerto-Rico', 'nativecountry_ Scotland', 'nativecountry_ South', 'nativecountry_ Taiwan', 'nativecountry_ Thailand', 'nativecountry_ Trinadad&Tobago', 'nativecountry_ United-States', 'nativecountry_ Vietnam', 'nativecountry_ Yugoslavia']\n"
     ]
    }
   ],
   "source": [
    "# Storing the column names\n",
    "column_list2=list(new_data2.columns)\n",
    "print(column_list2)"
   ]
  },
  {
   "cell_type": "code",
   "execution_count": 45,
   "id": "96564ce2",
   "metadata": {},
   "outputs": [
    {
     "name": "stdout",
     "output_type": "stream",
     "text": [
      "['nativecountry_ Outlying-US(Guam-USVI-etc)', 'hoursperweek', 'nativecountry_ Dominican-Republic', 'EdType_ 1st-4th', 'EdType_ Some-college', 'occupation_ Sales', 'occupation_ Other-service', 'maritalstatus_ Married-civ-spouse', 'occupation_ Prof-specialty', 'occupation_ Handlers-cleaners', 'race_ Asian-Pac-Islander', 'EdType_ Bachelors', 'nativecountry_ Germany', 'nativecountry_ Cuba', 'nativecountry_ Hungary', 'nativecountry_ England', 'nativecountry_ Haiti', 'nativecountry_ France', 'nativecountry_ Puerto-Rico', 'nativecountry_ Poland', 'occupation_ Armed-Forces', 'nativecountry_ India', 'nativecountry_ Greece', 'maritalstatus_ Married-spouse-absent', 'JobType_ Self-emp-not-inc', 'nativecountry_ South', 'JobType_ Private', 'EdType_ Assoc-voc', 'occupation_ Protective-serv', 'occupation_ Exec-managerial', 'JobType_ Without-pay', 'EdType_ 5th-6th', 'EdType_ Assoc-acdm', 'nativecountry_ Jamaica', 'nativecountry_ United-States', 'nativecountry_ Thailand', 'nativecountry_ Laos', 'nativecountry_ Hong', 'EdType_ Preschool', 'maritalstatus_ Separated', 'relationship_ Other-relative', 'gender_ Male', 'nativecountry_ Holand-Netherlands', 'JobType_ Self-emp-inc', 'EdType_ Doctorate', 'nativecountry_ Yugoslavia', 'EdType_ HS-grad', 'race_ White', 'EdType_ Masters', 'nativecountry_ Peru', 'nativecountry_ Taiwan', 'relationship_ Own-child', 'nativecountry_ Portugal', 'occupation_ Transport-moving', 'nativecountry_ Canada', 'EdType_ Prof-school', 'race_ Black', 'occupation_ Priv-house-serv', 'nativecountry_ Columbia', 'nativecountry_ Ecuador', 'nativecountry_ Italy', 'nativecountry_ Vietnam', 'nativecountry_ Ireland', 'JobType_ Local-gov', 'race_ Other', 'nativecountry_ Scotland', 'relationship_ Wife', 'maritalstatus_ Never-married', 'nativecountry_ Honduras', 'nativecountry_ Trinadad&Tobago', 'nativecountry_ Japan', 'EdType_ 7th-8th', 'nativecountry_ Mexico', 'nativecountry_ Guatemala', 'capitalgain', 'occupation_ Farming-fishing', 'occupation_ Machine-op-inspct', 'nativecountry_ Nicaragua', 'nativecountry_ Iran', 'occupation_ Craft-repair', 'maritalstatus_ Widowed', 'EdType_ 12th', 'maritalstatus_ Married-AF-spouse', 'nativecountry_ China', 'JobType_ State-gov', 'nativecountry_ Philippines', 'capitalloss', 'EdType_ 9th', 'occupation_ Tech-support', 'nativecountry_ El-Salvador', 'age', 'EdType_ 11th', 'relationship_ Not-in-family', 'relationship_ Unmarried']\n"
     ]
    }
   ],
   "source": [
    "# Seperating the input names from data\n",
    "features2=list(set(column_list2)-set([\"SalStat\"]))\n",
    "print(features2)"
   ]
  },
  {
   "cell_type": "code",
   "execution_count": 46,
   "id": "269d5473",
   "metadata": {},
   "outputs": [
    {
     "name": "stdout",
     "output_type": "stream",
     "text": [
      "[0 0 1 ... 0 0 0]\n"
     ]
    }
   ],
   "source": [
    "# Storing the output in y (dependent variable)\n",
    "y=new_data2[\"SalStat\"].values\n",
    "print(y)"
   ]
  },
  {
   "cell_type": "code",
   "execution_count": 47,
   "id": "e84c0f2c",
   "metadata": {},
   "outputs": [
    {
     "name": "stdout",
     "output_type": "stream",
     "text": [
      "[[ 0 28  0 ...  0  1  0]\n",
      " [ 0 40  0 ...  0  0  0]\n",
      " [ 0 40  0 ...  0  0  0]\n",
      " ...\n",
      " [ 0 40  0 ...  0  0  0]\n",
      " [ 0 40  0 ...  0  0  0]\n",
      " [ 0 40  0 ...  0  1  0]]\n"
     ]
    }
   ],
   "source": [
    "# Storing the values from input features (independent variable)\n",
    "x=new_data2[features].values\n",
    "print(x)"
   ]
  },
  {
   "cell_type": "code",
   "execution_count": 48,
   "id": "4d44d5e1",
   "metadata": {},
   "outputs": [
    {
     "name": "stdout",
     "output_type": "stream",
     "text": [
      "[[ 0 40  0 ...  1  0  0]\n",
      " [ 0 38  0 ...  0  0  0]\n",
      " [ 0 30  1 ...  0  0  0]\n",
      " ...\n",
      " [ 0 50  0 ...  0  0  0]\n",
      " [ 0 25  0 ...  0  0  0]\n",
      " [ 0 50  0 ...  0  1  0]]\n"
     ]
    }
   ],
   "source": [
    "# Splitting the data into train and test\n",
    "train_x,test_x,train_y,test_y=train_test_split(x,y,test_size=0.3,random_state=0)\n",
    "print(train_x)"
   ]
  },
  {
   "cell_type": "code",
   "execution_count": 49,
   "id": "1a5c3567",
   "metadata": {},
   "outputs": [],
   "source": [
    "# Make an instance of the Model\n",
    "logistic= LogisticRegression()"
   ]
  },
  {
   "cell_type": "code",
   "execution_count": 50,
   "id": "b1f6f1e1",
   "metadata": {},
   "outputs": [
    {
     "name": "stdout",
     "output_type": "stream",
     "text": [
      "LogisticRegression()\n",
      "[[-7.40036871e-03  9.03842879e-03 -2.56532664e-02 -7.15053430e-02\n",
      "  -3.95741270e-01  9.75595485e-02 -7.40094498e-01  1.13494953e+00\n",
      "   6.82535007e-01 -3.38778384e-01 -1.17552954e-01  7.21388818e-01\n",
      "   1.45250895e-02 -8.17160641e-03 -3.26600478e-03  1.26822456e-02\n",
      "  -1.18067060e-02  5.70051645e-03 -4.12815207e-02 -9.32651015e-03\n",
      "  -1.93605457e-03 -2.02030016e-02 -8.30629060e-03 -5.83344922e-02\n",
      "  -5.81197429e-01 -2.64748547e-02 -3.28185579e-01 -3.84869722e-02\n",
      "  -1.41312229e-02  8.96333506e-01 -8.11207298e-03 -1.40000007e-01\n",
      "  -5.95483383e-02 -1.19700557e-02 -4.25992941e-01 -3.32713018e-03\n",
      "  -6.13310345e-03 -1.25429518e-03 -2.63112647e-02 -1.79272071e-01\n",
      "  -2.44243620e-01  1.65322316e-01 -8.91127264e-04  1.61641416e-01\n",
      "   2.48019292e-01 -5.14840971e-04 -9.34910515e-01 -3.25917112e-01\n",
      "   5.25832023e-01 -1.20607186e-02  1.96820155e-03 -9.41329951e-01\n",
      "  -1.37000187e-02 -1.94929168e-01  3.59715689e-03  2.33557961e-01\n",
      "  -4.33490481e-01 -4.05997767e-02 -2.01605761e-02 -7.22733430e-03\n",
      "  -1.84100685e-03 -3.36225210e-02 -3.87662510e-03 -2.47260978e-01\n",
      "  -8.38190354e-02 -3.28725753e-03  2.46098579e-01 -1.34890943e+00\n",
      "  -2.24185874e-03 -4.48333793e-03 -4.68999122e-04 -2.49537056e-01\n",
      "  -2.56964113e-01 -2.17238924e-02  3.17470456e-04 -3.89273020e-01\n",
      "  -3.50166294e-01 -1.28610288e-02 -2.68650954e-03 -3.21214656e-01\n",
      "  -9.75100869e-02 -9.56685454e-02  1.64667563e-02 -2.23652034e-02\n",
      "  -1.26400485e-01 -8.15761873e-03  6.67330138e-04 -1.72044097e-01\n",
      "   1.16718925e-01 -3.95911533e-02  4.81154935e-04 -3.04076989e-01\n",
      "  -5.01006911e-01 -5.75253132e-01]]\n",
      "[-1.0401847]\n"
     ]
    },
    {
     "name": "stderr",
     "output_type": "stream",
     "text": [
      "C:\\Users\\ASUS\\anaconda3\\lib\\site-packages\\sklearn\\linear_model\\_logistic.py:763: ConvergenceWarning: lbfgs failed to converge (status=1):\n",
      "STOP: TOTAL NO. of ITERATIONS REACHED LIMIT.\n",
      "\n",
      "Increase the number of iterations (max_iter) or scale the data as shown in:\n",
      "    https://scikit-learn.org/stable/modules/preprocessing.html\n",
      "Please also refer to the documentation for alternative solver options:\n",
      "    https://scikit-learn.org/stable/modules/linear_model.html#logistic-regression\n",
      "  n_iter_i = _check_optimize_result(\n"
     ]
    }
   ],
   "source": [
    "# Fitting the values for x and y\n",
    "print(logistic.fit(train_x,train_y))\n",
    "print(logistic.coef_)\n",
    "print(logistic.intercept_)"
   ]
  },
  {
   "cell_type": "code",
   "execution_count": 51,
   "id": "3715a783",
   "metadata": {},
   "outputs": [
    {
     "name": "stdout",
     "output_type": "stream",
     "text": [
      "[0 0 0 ... 0 0 0]\n"
     ]
    }
   ],
   "source": [
    "# Prediction from test data\n",
    "prediction2=logistic.predict(test_x)\n",
    "print(prediction2)"
   ]
  },
  {
   "cell_type": "markdown",
   "id": "3a2be113",
   "metadata": {},
   "source": [
    "**EVALUATION OF MODEL AFTER REMOVING INSIGNIFICANT VARIABLES**"
   ]
  },
  {
   "cell_type": "code",
   "execution_count": 52,
   "id": "db357f57",
   "metadata": {},
   "outputs": [
    {
     "name": "stdout",
     "output_type": "stream",
     "text": [
      "[[6291  532]\n",
      " [ 946 1280]]\n"
     ]
    }
   ],
   "source": [
    "# Confusion matrix\n",
    "cm2=confusion_matrix(test_y,prediction2)\n",
    "print(cm2)"
   ]
  },
  {
   "cell_type": "code",
   "execution_count": 53,
   "id": "756cdb7a",
   "metadata": {},
   "outputs": [
    {
     "name": "stdout",
     "output_type": "stream",
     "text": [
      "0.8366670350314952\n"
     ]
    }
   ],
   "source": [
    "# Calculating the accuracy\n",
    "as2=accuracy_score(test_y,prediction2)\n",
    "print(as2)"
   ]
  },
  {
   "cell_type": "code",
   "execution_count": 54,
   "id": "21425c43",
   "metadata": {},
   "outputs": [
    {
     "name": "stdout",
     "output_type": "stream",
     "text": [
      "Misclassified samples: 1478\n"
     ]
    }
   ],
   "source": [
    "# Printing the misclassified values from prediction\n",
    "print(\"Misclassified samples: %d\" %(test_y != prediction2).sum())"
   ]
  },
  {
   "cell_type": "markdown",
   "id": "51aae6fd",
   "metadata": {},
   "source": [
    "**Result:**\n",
    "* The Accuracy score of the above model is 0.83666\n",
    "* There are 1478 misclassified samples"
   ]
  },
  {
   "cell_type": "markdown",
   "id": "c141d202",
   "metadata": {},
   "source": [
    "**KNN CLASSIFIER MODEL**"
   ]
  },
  {
   "cell_type": "code",
   "execution_count": 55,
   "id": "7630c934",
   "metadata": {},
   "outputs": [],
   "source": [
    "# Importing the library of KNN\n",
    "from sklearn.neighbors import KNeighborsClassifier"
   ]
  },
  {
   "cell_type": "code",
   "execution_count": 56,
   "id": "b08185d8",
   "metadata": {},
   "outputs": [],
   "source": [
    "# Starting the K nearest neighbours classifier\n",
    "KNN_classifier=KNeighborsClassifier(n_neighbors=5)"
   ]
  },
  {
   "cell_type": "code",
   "execution_count": 57,
   "id": "c875be96",
   "metadata": {},
   "outputs": [
    {
     "data": {
      "text/plain": [
       "KNeighborsClassifier()"
      ]
     },
     "execution_count": 57,
     "metadata": {},
     "output_type": "execute_result"
    }
   ],
   "source": [
    "# Fitting the values for x and y\n",
    "KNN_classifier.fit(train_x,train_y)"
   ]
  },
  {
   "cell_type": "code",
   "execution_count": 58,
   "id": "6bb8052d",
   "metadata": {},
   "outputs": [
    {
     "name": "stdout",
     "output_type": "stream",
     "text": [
      "[0 0 0 ... 1 0 0]\n"
     ]
    }
   ],
   "source": [
    "# Predicting the test values with model\n",
    "prediction3=KNN_classifier.predict(test_x)\n",
    "print(prediction3)"
   ]
  },
  {
   "cell_type": "markdown",
   "id": "ca6716d0",
   "metadata": {},
   "source": [
    "**EVALUATION OF KNN CLASSIFIER MODEL**"
   ]
  },
  {
   "cell_type": "code",
   "execution_count": 59,
   "id": "95ce9a4f",
   "metadata": {},
   "outputs": [
    {
     "name": "stdout",
     "output_type": "stream",
     "text": [
      "[[6173  650]\n",
      " [ 843 1383]]\n"
     ]
    }
   ],
   "source": [
    "# Confusion matrix\n",
    "cm3=confusion_matrix(test_y,prediction3)\n",
    "print(cm3)"
   ]
  },
  {
   "cell_type": "code",
   "execution_count": 60,
   "id": "9f599bbb",
   "metadata": {},
   "outputs": [
    {
     "name": "stdout",
     "output_type": "stream",
     "text": [
      "0.8350093933031274\n"
     ]
    }
   ],
   "source": [
    "# Calculating the accuracy\n",
    "as3=accuracy_score(test_y,prediction3)\n",
    "print(as3)"
   ]
  },
  {
   "cell_type": "code",
   "execution_count": 61,
   "id": "d46027e3",
   "metadata": {},
   "outputs": [
    {
     "name": "stdout",
     "output_type": "stream",
     "text": [
      "Misclassified samples: 1493\n"
     ]
    }
   ],
   "source": [
    "# Printing the misclassified values from prediction\n",
    "print(\"Misclassified samples: %d\" %(test_y != prediction3).sum())"
   ]
  },
  {
   "cell_type": "markdown",
   "id": "43eb01d8",
   "metadata": {},
   "source": [
    "**Result:**\n",
    "* The Accuracy score of the above model is 0.83500\n",
    "* There are 1493 misclassified samples"
   ]
  },
  {
   "cell_type": "markdown",
   "id": "6bcd3cf5",
   "metadata": {},
   "source": [
    "**EFFECT OF K VALUE ON CLASSIFIER**"
   ]
  },
  {
   "cell_type": "code",
   "execution_count": 62,
   "id": "52314bbb",
   "metadata": {},
   "outputs": [
    {
     "name": "stdout",
     "output_type": "stream",
     "text": [
      "[1766, 1516, 1515, 1436, 1493, 1438, 1451, 1432, 1458, 1436, 1441, 1447, 1451, 1423, 1413, 1390, 1424, 1396, 1434]\n"
     ]
    }
   ],
   "source": [
    "# Calculating error for K values between 1 and 20\n",
    "Misclassified_sample=[]\n",
    "for i in range(1,20):\n",
    "    knn=KNeighborsClassifier(n_neighbors=i)\n",
    "    knn.fit(train_x,train_y)\n",
    "    pred_i=knn.predict(test_x)\n",
    "    Misclassified_sample.append((test_y != pred_i).sum())\n",
    "print(Misclassified_sample)"
   ]
  },
  {
   "cell_type": "markdown",
   "id": "8f070e71",
   "metadata": {},
   "source": [
    "**Logistic Regression VS KNN:**\n",
    "\n",
    "Logistic Regression model is performing better when compared to KNN model, with a difference of 0.00165 in Accuracy Score."
   ]
  }
 ],
 "metadata": {
  "kernelspec": {
   "display_name": "Python 3",
   "language": "python",
   "name": "python3"
  },
  "language_info": {
   "codemirror_mode": {
    "name": "ipython",
    "version": 3
   },
   "file_extension": ".py",
   "mimetype": "text/x-python",
   "name": "python",
   "nbconvert_exporter": "python",
   "pygments_lexer": "ipython3",
   "version": "3.8.8"
  }
 },
 "nbformat": 4,
 "nbformat_minor": 5
}
